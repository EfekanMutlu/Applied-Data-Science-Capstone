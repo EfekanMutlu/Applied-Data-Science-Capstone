{
 "cells": [
  {
   "cell_type": "markdown",
   "metadata": {
    "id": "3n3ltmfnrqpi",
    "outputId": "a2d4f52a-2fb7-4668-f5f0-fe862aab8eb0",
    "papermill": {
     "duration": 1.489571,
     "end_time": "2020-09-19T06:26:57.168979",
     "exception": false,
     "start_time": "2020-09-19T06:26:55.679408",
     "status": "completed"
    },
    "tags": []
   },
   "source": [
    "<center>\n",
    "    <img src=\"https://gitlab.com/ibm/skills-network/courses/placeholder101/-/raw/master/labs/module%201/images/IDSNlogo.png\" width=\"300\" alt=\"cognitiveclass.ai logo\"  />\n",
    "</center>\n"
   ]
  },
  {
   "cell_type": "markdown",
   "metadata": {},
   "source": [
    "# **Launch Sites Locations Analysis with Folium**\n"
   ]
  },
  {
   "cell_type": "markdown",
   "metadata": {},
   "source": [
    "Estimated time needed: **40** minutes\n"
   ]
  },
  {
   "cell_type": "markdown",
   "metadata": {},
   "source": [
    "The launch success rate may depend on many factors such as payload mass, orbit type, and so on. It may also depend on the location and proximities of a launch site, i.e., the initial position of rocket trajectories. Finding an optimal location for building a launch site certainly involves many factors and hopefully we could discover some of the factors by analyzing the existing launch site locations.\n"
   ]
  },
  {
   "cell_type": "markdown",
   "metadata": {},
   "source": [
    "In the previous exploratory data analysis labs, you have visualized the SpaceX launch dataset using `matplotlib` and `seaborn` and discovered some preliminary correlations between the launch site and success rates. In this lab, you will be performing more interactive visual analytics using `Folium`.\n"
   ]
  },
  {
   "cell_type": "markdown",
   "metadata": {},
   "source": [
    "## Objectives\n"
   ]
  },
  {
   "cell_type": "markdown",
   "metadata": {},
   "source": [
    "This lab contains the following tasks:\n",
    "\n",
    "*   **TASK 1:** Mark all launch sites on a map\n",
    "*   **TASK 2:** Mark the success/failed launches for each site on the map\n",
    "*   **TASK 3:** Calculate the distances between a launch site to its proximities\n",
    "\n",
    "After completed the above tasks, you should be able to find some geographical patterns about launch sites.\n"
   ]
  },
  {
   "cell_type": "markdown",
   "metadata": {},
   "source": [
    "Let's first import required Python packages for this lab:\n"
   ]
  },
  {
   "cell_type": "code",
   "execution_count": 1,
   "metadata": {},
   "outputs": [
    {
     "name": "stdout",
     "output_type": "stream",
     "text": [
      "Requirement already satisfied: folium in c:\\users\\maher\\anaconda3\\lib\\site-packages (0.5.0)\n",
      "Requirement already satisfied: jinja2 in c:\\users\\maher\\anaconda3\\lib\\site-packages (from folium) (2.11.2)\n",
      "Requirement already satisfied: requests in c:\\users\\maher\\anaconda3\\lib\\site-packages (from folium) (2.24.0)\n",
      "Requirement already satisfied: six in c:\\users\\maher\\anaconda3\\lib\\site-packages (from folium) (1.15.0)\n",
      "Requirement already satisfied: branca in c:\\users\\maher\\anaconda3\\lib\\site-packages (from folium) (0.4.1)\n",
      "Requirement already satisfied: MarkupSafe>=0.23 in c:\\users\\maher\\anaconda3\\lib\\site-packages (from jinja2->folium) (1.1.1)\n",
      "Requirement already satisfied: chardet<4,>=3.0.2 in c:\\users\\maher\\anaconda3\\lib\\site-packages (from requests->folium) (3.0.4)\n",
      "Requirement already satisfied: certifi>=2017.4.17 in c:\\users\\maher\\anaconda3\\lib\\site-packages (from requests->folium) (2020.6.20)\n",
      "Requirement already satisfied: urllib3!=1.25.0,!=1.25.1,<1.26,>=1.21.1 in c:\\users\\maher\\anaconda3\\lib\\site-packages (from requests->folium) (1.25.10)\n",
      "Requirement already satisfied: idna<3,>=2.5 in c:\\users\\maher\\anaconda3\\lib\\site-packages (from requests->folium) (2.10)\n",
      "Requirement already satisfied: wget in c:\\users\\maher\\anaconda3\\lib\\site-packages (3.2)\n"
     ]
    }
   ],
   "source": [
    "!pip3 install folium\n",
    "!pip3 install wget"
   ]
  },
  {
   "cell_type": "code",
   "execution_count": 2,
   "metadata": {},
   "outputs": [],
   "source": [
    "import folium\n",
    "import wget\n",
    "import pandas as pd"
   ]
  },
  {
   "cell_type": "code",
   "execution_count": 4,
   "metadata": {},
   "outputs": [],
   "source": [
    "# Import folium MarkerCluster plugin\n",
    "from folium.plugins import MarkerCluster\n",
    "# Import folium MousePosition plugin\n",
    "# from folium.plugins import MousePosition\n",
    "import folium.plugins as plugins\n",
    "# Import folium DivIcon plugin\n",
    "from folium.features import DivIcon"
   ]
  },
  {
   "cell_type": "markdown",
   "metadata": {},
   "source": [
    "## Task 1: Mark all launch sites on a map\n"
   ]
  },
  {
   "cell_type": "markdown",
   "metadata": {},
   "source": [
    "First, let's try to add each site's location on a map using site's latitude and longitude coordinates\n"
   ]
  },
  {
   "cell_type": "markdown",
   "metadata": {},
   "source": [
    "The following dataset with the name `spacex_launch_geo.csv` is an augmented dataset with latitude and longitude added for each site.\n"
   ]
  },
  {
   "cell_type": "code",
   "execution_count": 5,
   "metadata": {},
   "outputs": [
    {
     "name": "stdout",
     "output_type": "stream",
     "text": [
      "\r",
      "  0% [                                                                                ]    0 / 8966\r",
      " 91% [.........................................................................       ] 8192 / 8966\r",
      "100% [................................................................................] 8966 / 8966"
     ]
    }
   ],
   "source": [
    "# Download and read the `spacex_launch_geo.csv`\n",
    "spacex_csv_file = wget.download('https://cf-courses-data.s3.us.cloud-object-storage.appdomain.cloud/IBM-DS0321EN-SkillsNetwork/datasets/spacex_launch_geo.csv')\n",
    "spacex_df=pd.read_csv(spacex_csv_file)"
   ]
  },
  {
   "cell_type": "markdown",
   "metadata": {},
   "source": [
    "Now, you can take a look at what are the coordinates for each site.\n"
   ]
  },
  {
   "cell_type": "code",
   "execution_count": 8,
   "metadata": {},
   "outputs": [
    {
     "data": {
      "text/html": [
       "<div>\n",
       "<style scoped>\n",
       "    .dataframe tbody tr th:only-of-type {\n",
       "        vertical-align: middle;\n",
       "    }\n",
       "\n",
       "    .dataframe tbody tr th {\n",
       "        vertical-align: top;\n",
       "    }\n",
       "\n",
       "    .dataframe thead th {\n",
       "        text-align: right;\n",
       "    }\n",
       "</style>\n",
       "<table border=\"1\" class=\"dataframe\">\n",
       "  <thead>\n",
       "    <tr style=\"text-align: right;\">\n",
       "      <th></th>\n",
       "      <th>Launch Site</th>\n",
       "      <th>Lat</th>\n",
       "      <th>Long</th>\n",
       "    </tr>\n",
       "  </thead>\n",
       "  <tbody>\n",
       "    <tr>\n",
       "      <th>0</th>\n",
       "      <td>CCAFS LC-40</td>\n",
       "      <td>28.562302</td>\n",
       "      <td>-80.577356</td>\n",
       "    </tr>\n",
       "    <tr>\n",
       "      <th>1</th>\n",
       "      <td>CCAFS SLC-40</td>\n",
       "      <td>28.563197</td>\n",
       "      <td>-80.576820</td>\n",
       "    </tr>\n",
       "    <tr>\n",
       "      <th>2</th>\n",
       "      <td>KSC LC-39A</td>\n",
       "      <td>28.573255</td>\n",
       "      <td>-80.646895</td>\n",
       "    </tr>\n",
       "    <tr>\n",
       "      <th>3</th>\n",
       "      <td>VAFB SLC-4E</td>\n",
       "      <td>34.632834</td>\n",
       "      <td>-120.610746</td>\n",
       "    </tr>\n",
       "  </tbody>\n",
       "</table>\n",
       "</div>"
      ],
      "text/plain": [
       "    Launch Site        Lat        Long\n",
       "0   CCAFS LC-40  28.562302  -80.577356\n",
       "1  CCAFS SLC-40  28.563197  -80.576820\n",
       "2    KSC LC-39A  28.573255  -80.646895\n",
       "3   VAFB SLC-4E  34.632834 -120.610746"
      ]
     },
     "execution_count": 8,
     "metadata": {},
     "output_type": "execute_result"
    }
   ],
   "source": [
    "# Select relevant sub-columns: `Launch Site`, `Lat(Latitude)`, `Long(Longitude)`, `class`\n",
    "spacex_df = spacex_df[['Launch Site', 'Lat', 'Long', 'class']]\n",
    "launch_sites_df = spacex_df.groupby(['Launch Site'], as_index=False).first()\n",
    "launch_sites_df = launch_sites_df[['Launch Site', 'Lat', 'Long']]\n",
    "launch_sites_df"
   ]
  },
  {
   "cell_type": "markdown",
   "metadata": {},
   "source": [
    "Above coordinates are just plain numbers that can not give you any intuitive insights about where are those launch sites. If you are very good at geography, you can interpret those numbers directly in your mind. If not, that's fine too. Let's visualize those locations by pinning them on a map.\n"
   ]
  },
  {
   "cell_type": "markdown",
   "metadata": {},
   "source": [
    "We first need to create a folium `Map` object, with an initial center location to be NASA Johnson Space Center at Houston, Texas.\n"
   ]
  },
  {
   "cell_type": "code",
   "execution_count": 9,
   "metadata": {},
   "outputs": [],
   "source": [
    "# Start location is NASA Johnson Space Center\n",
    "nasa_coordinate = [29.559684888503615, -95.0830971930759]\n",
    "site_map = folium.Map(location=nasa_coordinate, zoom_start=10)"
   ]
  },
  {
   "cell_type": "markdown",
   "metadata": {},
   "source": [
    "We could use `folium.Circle` to add a highlighted circle area with a text label on a specific coordinate. For example,\n"
   ]
  },
  {
   "cell_type": "code",
   "execution_count": 10,
   "metadata": {},
   "outputs": [
    {
     "data": {
      "text/html": [
       "<div style=\"width:100%;\"><div style=\"position:relative;width:100%;height:0;padding-bottom:60%;\"><span style=\"color:#565656\">Make this Notebook Trusted to load map: File -> Trust Notebook</span><iframe src=\"about:blank\" style=\"position:absolute;width:100%;height:100%;left:0;top:0;border:none !important;\" data-html=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 onload=\"this.contentDocument.open();this.contentDocument.write(atob(this.getAttribute('data-html')));this.contentDocument.close();\" allowfullscreen webkitallowfullscreen mozallowfullscreen></iframe></div></div>"
      ],
      "text/plain": [
       "<folium.folium.Map at 0x1e1b58462b0>"
      ]
     },
     "execution_count": 10,
     "metadata": {},
     "output_type": "execute_result"
    }
   ],
   "source": [
    "# Create a blue circle at NASA Johnson Space Center's coordinate with a popup label showing its name\n",
    "circle = folium.Circle(nasa_coordinate, radius=1000, color='#d35400', fill=True).add_child(folium.Popup('NASA Johnson Space Center'))\n",
    "# Create a blue circle at NASA Johnson Space Center's coordinate with a icon showing its name\n",
    "marker = folium.map.Marker(\n",
    "    nasa_coordinate,\n",
    "    # Create an icon as a text label\n",
    "    icon=DivIcon(\n",
    "        icon_size=(20,20),\n",
    "        icon_anchor=(0,0),\n",
    "        html='<div style=\"font-size: 12; color:#d35400;\"><b>%s</b></div>' % 'NASA JSC',\n",
    "        )\n",
    "    )\n",
    "site_map.add_child(circle)\n",
    "site_map.add_child(marker)"
   ]
  },
  {
   "cell_type": "markdown",
   "metadata": {},
   "source": [
    "and you should find a small yellow circle near the city of Houston and you can zoom-in to see a larger circle.\n"
   ]
  },
  {
   "cell_type": "markdown",
   "metadata": {},
   "source": [
    "Now, let's add a circle for each launch site in data frame `launch_sites`\n"
   ]
  },
  {
   "cell_type": "markdown",
   "metadata": {},
   "source": [
    "*TODO:*  Create and add `folium.Circle` and `folium.Marker` for each launch site on the site map\n"
   ]
  },
  {
   "cell_type": "code",
   "execution_count": 30,
   "metadata": {},
   "outputs": [
    {
     "data": {
      "text/html": [
       "<div style=\"width:100%;\"><div style=\"position:relative;width:100%;height:0;padding-bottom:60%;\"><span style=\"color:#565656\">Make this Notebook Trusted to load map: File -> Trust Notebook</span><iframe src=\"about:blank\" style=\"position:absolute;width:100%;height:100%;left:0;top:0;border:none !important;\" data-html=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 onload=\"this.contentDocument.open();this.contentDocument.write(atob(this.getAttribute('data-html')));this.contentDocument.close();\" allowfullscreen webkitallowfullscreen mozallowfullscreen></iframe></div></div>"
      ],
      "text/plain": [
       "<folium.folium.Map at 0x1e1b626c250>"
      ]
     },
     "execution_count": 30,
     "metadata": {},
     "output_type": "execute_result"
    }
   ],
   "source": [
    "# Initial the map\n",
    "site_map = folium.Map(location=nasa_coordinate, zoom_start=5)\n",
    "# For each launch site, add a Circle object based on its coordinate (Lat, Long) values. In addition, add Launch site name as a popup label\n",
    "for row in launch_sites_df.values:\n",
    "    circle = folium.Circle([row[1], row[2]], radius=1000, color='#d35400', fill=True).add_child(folium.Popup(row[0]))\n",
    "    # Create a blue circle at NASA Johnson Space Center's coordinate with a icon showing its name\n",
    "    marker = folium.map.Marker(\n",
    "        [row[1], row[2]],\n",
    "        # Create an icon as a text label\n",
    "        icon=DivIcon(\n",
    "            icon_size=(20,20),\n",
    "            icon_anchor=(0,0),\n",
    "            html='<div style=\"font-size: 12; color:#d35400;\"><b>%s</b></div>' % row[0],\n",
    "            )\n",
    "        )\n",
    "    site_map.add_child(circle)\n",
    "    site_map.add_child(marker)\n",
    "site_map"
   ]
  },
  {
   "cell_type": "markdown",
   "metadata": {},
   "source": [
    "The generated map with marked launch sites should look similar to the following:\n"
   ]
  },
  {
   "cell_type": "markdown",
   "metadata": {},
   "source": [
    "<center>\n",
    "    <img src=\"https://cf-courses-data.s3.us.cloud-object-storage.appdomain.cloud/IBM-DS0321EN-SkillsNetwork/labs/module_3/images/launch_site_markers.png\" />\n",
    "</center>\n"
   ]
  },
  {
   "cell_type": "markdown",
   "metadata": {},
   "source": [
    "Now, you can explore the map by zoom-in/out the marked areas\n",
    ", and try to answer the following questions:\n",
    "\n",
    "*   Are all launch sites in proximity to the Equator line?\n",
    "*   Are all launch sites in very close proximity to the coast?\n",
    "\n",
    "Also please try to explain your findings.\n"
   ]
  },
  {
   "cell_type": "markdown",
   "metadata": {},
   "source": [
    "# Task 2: Mark the success/failed launches for each site on the map\n"
   ]
  },
  {
   "cell_type": "markdown",
   "metadata": {},
   "source": [
    "Next, let's try to enhance the map by adding the launch outcomes for each site, and see which sites have high success rates.\n",
    "Recall that data frame spacex_df has detailed launch records, and the `class` column indicates if this launch was successful or not\n"
   ]
  },
  {
   "cell_type": "code",
   "execution_count": 16,
   "metadata": {},
   "outputs": [
    {
     "data": {
      "text/html": [
       "<div>\n",
       "<style scoped>\n",
       "    .dataframe tbody tr th:only-of-type {\n",
       "        vertical-align: middle;\n",
       "    }\n",
       "\n",
       "    .dataframe tbody tr th {\n",
       "        vertical-align: top;\n",
       "    }\n",
       "\n",
       "    .dataframe thead th {\n",
       "        text-align: right;\n",
       "    }\n",
       "</style>\n",
       "<table border=\"1\" class=\"dataframe\">\n",
       "  <thead>\n",
       "    <tr style=\"text-align: right;\">\n",
       "      <th></th>\n",
       "      <th>Launch Site</th>\n",
       "      <th>Lat</th>\n",
       "      <th>Long</th>\n",
       "      <th>class</th>\n",
       "    </tr>\n",
       "  </thead>\n",
       "  <tbody>\n",
       "    <tr>\n",
       "      <th>46</th>\n",
       "      <td>KSC LC-39A</td>\n",
       "      <td>28.573255</td>\n",
       "      <td>-80.646895</td>\n",
       "      <td>1</td>\n",
       "    </tr>\n",
       "    <tr>\n",
       "      <th>47</th>\n",
       "      <td>KSC LC-39A</td>\n",
       "      <td>28.573255</td>\n",
       "      <td>-80.646895</td>\n",
       "      <td>1</td>\n",
       "    </tr>\n",
       "    <tr>\n",
       "      <th>48</th>\n",
       "      <td>KSC LC-39A</td>\n",
       "      <td>28.573255</td>\n",
       "      <td>-80.646895</td>\n",
       "      <td>1</td>\n",
       "    </tr>\n",
       "    <tr>\n",
       "      <th>49</th>\n",
       "      <td>CCAFS SLC-40</td>\n",
       "      <td>28.563197</td>\n",
       "      <td>-80.576820</td>\n",
       "      <td>1</td>\n",
       "    </tr>\n",
       "    <tr>\n",
       "      <th>50</th>\n",
       "      <td>CCAFS SLC-40</td>\n",
       "      <td>28.563197</td>\n",
       "      <td>-80.576820</td>\n",
       "      <td>1</td>\n",
       "    </tr>\n",
       "    <tr>\n",
       "      <th>51</th>\n",
       "      <td>CCAFS SLC-40</td>\n",
       "      <td>28.563197</td>\n",
       "      <td>-80.576820</td>\n",
       "      <td>0</td>\n",
       "    </tr>\n",
       "    <tr>\n",
       "      <th>52</th>\n",
       "      <td>CCAFS SLC-40</td>\n",
       "      <td>28.563197</td>\n",
       "      <td>-80.576820</td>\n",
       "      <td>0</td>\n",
       "    </tr>\n",
       "    <tr>\n",
       "      <th>53</th>\n",
       "      <td>CCAFS SLC-40</td>\n",
       "      <td>28.563197</td>\n",
       "      <td>-80.576820</td>\n",
       "      <td>0</td>\n",
       "    </tr>\n",
       "    <tr>\n",
       "      <th>54</th>\n",
       "      <td>CCAFS SLC-40</td>\n",
       "      <td>28.563197</td>\n",
       "      <td>-80.576820</td>\n",
       "      <td>1</td>\n",
       "    </tr>\n",
       "    <tr>\n",
       "      <th>55</th>\n",
       "      <td>CCAFS SLC-40</td>\n",
       "      <td>28.563197</td>\n",
       "      <td>-80.576820</td>\n",
       "      <td>0</td>\n",
       "    </tr>\n",
       "  </tbody>\n",
       "</table>\n",
       "</div>"
      ],
      "text/plain": [
       "     Launch Site        Lat       Long  class\n",
       "46    KSC LC-39A  28.573255 -80.646895      1\n",
       "47    KSC LC-39A  28.573255 -80.646895      1\n",
       "48    KSC LC-39A  28.573255 -80.646895      1\n",
       "49  CCAFS SLC-40  28.563197 -80.576820      1\n",
       "50  CCAFS SLC-40  28.563197 -80.576820      1\n",
       "51  CCAFS SLC-40  28.563197 -80.576820      0\n",
       "52  CCAFS SLC-40  28.563197 -80.576820      0\n",
       "53  CCAFS SLC-40  28.563197 -80.576820      0\n",
       "54  CCAFS SLC-40  28.563197 -80.576820      1\n",
       "55  CCAFS SLC-40  28.563197 -80.576820      0"
      ]
     },
     "execution_count": 16,
     "metadata": {},
     "output_type": "execute_result"
    }
   ],
   "source": [
    "spacex_df.tail(10)"
   ]
  },
  {
   "cell_type": "markdown",
   "metadata": {},
   "source": [
    "Next, let's create markers for all launch records.\n",
    "If a launch was successful `(class=1)`, then we use a green marker and if a launch was failed, we use a red marker `(class=0)`\n"
   ]
  },
  {
   "cell_type": "markdown",
   "metadata": {},
   "source": [
    "Note that a launch only happens in one of the four launch sites, which means many launch records will have the exact same coordinate. Marker clusters can be a good way to simplify a map containing many markers having the same coordinate.\n"
   ]
  },
  {
   "cell_type": "markdown",
   "metadata": {},
   "source": [
    "Let's first create a `MarkerCluster` object\n"
   ]
  },
  {
   "cell_type": "code",
   "execution_count": 31,
   "metadata": {
    "id": "wP9PVUZ7Jfjt",
    "outputId": "6a3b8164-940c-4b93-9f3d-c655c4a0c683",
    "papermill": {
     "duration": 0.904519,
     "end_time": "2020-09-19T06:27:38.357041",
     "exception": false,
     "start_time": "2020-09-19T06:27:37.452522",
     "status": "completed"
    },
    "tags": []
   },
   "outputs": [],
   "source": [
    "marker_cluster = MarkerCluster()\n",
    "# "
   ]
  },
  {
   "cell_type": "markdown",
   "metadata": {},
   "source": [
    "*TODO:* Create a new column in `launch_sites` dataframe called `marker_color` to store the marker colors based on the `class` value\n"
   ]
  },
  {
   "cell_type": "code",
   "execution_count": null,
   "metadata": {},
   "outputs": [],
   "source": [
    "\n",
    "# Apply a function to check the value of `class` column\n",
    "# If class=1, marker_color value will be green\n",
    "# If class=0, marker_color value will be red\n"
   ]
  },
  {
   "cell_type": "code",
   "execution_count": 19,
   "metadata": {},
   "outputs": [
    {
     "data": {
      "text/html": [
       "<div>\n",
       "<style scoped>\n",
       "    .dataframe tbody tr th:only-of-type {\n",
       "        vertical-align: middle;\n",
       "    }\n",
       "\n",
       "    .dataframe tbody tr th {\n",
       "        vertical-align: top;\n",
       "    }\n",
       "\n",
       "    .dataframe thead th {\n",
       "        text-align: right;\n",
       "    }\n",
       "</style>\n",
       "<table border=\"1\" class=\"dataframe\">\n",
       "  <thead>\n",
       "    <tr style=\"text-align: right;\">\n",
       "      <th></th>\n",
       "      <th>Launch Site</th>\n",
       "      <th>Lat</th>\n",
       "      <th>Long</th>\n",
       "      <th>class</th>\n",
       "      <th>marker_color</th>\n",
       "    </tr>\n",
       "  </thead>\n",
       "  <tbody>\n",
       "    <tr>\n",
       "      <th>46</th>\n",
       "      <td>KSC LC-39A</td>\n",
       "      <td>28.573255</td>\n",
       "      <td>-80.646895</td>\n",
       "      <td>1</td>\n",
       "      <td>green</td>\n",
       "    </tr>\n",
       "    <tr>\n",
       "      <th>47</th>\n",
       "      <td>KSC LC-39A</td>\n",
       "      <td>28.573255</td>\n",
       "      <td>-80.646895</td>\n",
       "      <td>1</td>\n",
       "      <td>green</td>\n",
       "    </tr>\n",
       "    <tr>\n",
       "      <th>48</th>\n",
       "      <td>KSC LC-39A</td>\n",
       "      <td>28.573255</td>\n",
       "      <td>-80.646895</td>\n",
       "      <td>1</td>\n",
       "      <td>green</td>\n",
       "    </tr>\n",
       "    <tr>\n",
       "      <th>49</th>\n",
       "      <td>CCAFS SLC-40</td>\n",
       "      <td>28.563197</td>\n",
       "      <td>-80.576820</td>\n",
       "      <td>1</td>\n",
       "      <td>green</td>\n",
       "    </tr>\n",
       "    <tr>\n",
       "      <th>50</th>\n",
       "      <td>CCAFS SLC-40</td>\n",
       "      <td>28.563197</td>\n",
       "      <td>-80.576820</td>\n",
       "      <td>1</td>\n",
       "      <td>green</td>\n",
       "    </tr>\n",
       "    <tr>\n",
       "      <th>51</th>\n",
       "      <td>CCAFS SLC-40</td>\n",
       "      <td>28.563197</td>\n",
       "      <td>-80.576820</td>\n",
       "      <td>0</td>\n",
       "      <td>red</td>\n",
       "    </tr>\n",
       "    <tr>\n",
       "      <th>52</th>\n",
       "      <td>CCAFS SLC-40</td>\n",
       "      <td>28.563197</td>\n",
       "      <td>-80.576820</td>\n",
       "      <td>0</td>\n",
       "      <td>red</td>\n",
       "    </tr>\n",
       "    <tr>\n",
       "      <th>53</th>\n",
       "      <td>CCAFS SLC-40</td>\n",
       "      <td>28.563197</td>\n",
       "      <td>-80.576820</td>\n",
       "      <td>0</td>\n",
       "      <td>red</td>\n",
       "    </tr>\n",
       "    <tr>\n",
       "      <th>54</th>\n",
       "      <td>CCAFS SLC-40</td>\n",
       "      <td>28.563197</td>\n",
       "      <td>-80.576820</td>\n",
       "      <td>1</td>\n",
       "      <td>green</td>\n",
       "    </tr>\n",
       "    <tr>\n",
       "      <th>55</th>\n",
       "      <td>CCAFS SLC-40</td>\n",
       "      <td>28.563197</td>\n",
       "      <td>-80.576820</td>\n",
       "      <td>0</td>\n",
       "      <td>red</td>\n",
       "    </tr>\n",
       "  </tbody>\n",
       "</table>\n",
       "</div>"
      ],
      "text/plain": [
       "     Launch Site        Lat       Long  class marker_color\n",
       "46    KSC LC-39A  28.573255 -80.646895      1        green\n",
       "47    KSC LC-39A  28.573255 -80.646895      1        green\n",
       "48    KSC LC-39A  28.573255 -80.646895      1        green\n",
       "49  CCAFS SLC-40  28.563197 -80.576820      1        green\n",
       "50  CCAFS SLC-40  28.563197 -80.576820      1        green\n",
       "51  CCAFS SLC-40  28.563197 -80.576820      0          red\n",
       "52  CCAFS SLC-40  28.563197 -80.576820      0          red\n",
       "53  CCAFS SLC-40  28.563197 -80.576820      0          red\n",
       "54  CCAFS SLC-40  28.563197 -80.576820      1        green\n",
       "55  CCAFS SLC-40  28.563197 -80.576820      0          red"
      ]
     },
     "execution_count": 19,
     "metadata": {},
     "output_type": "execute_result"
    }
   ],
   "source": [
    "# Function to assign color to launch outcome\n",
    "def assign_marker_color(launch_outcome):\n",
    "    if launch_outcome == 1:\n",
    "        return 'green'\n",
    "    else:\n",
    "        return 'red'\n",
    "    \n",
    "spacex_df['marker_color'] = spacex_df['class'].apply(assign_marker_color)\n",
    "spacex_df.tail(10)"
   ]
  },
  {
   "cell_type": "markdown",
   "metadata": {},
   "source": [
    "*TODO:* For each launch result in `spacex_df` data frame, add a `folium.Marker` to `marker_cluster`\n"
   ]
  },
  {
   "cell_type": "code",
   "execution_count": 32,
   "metadata": {},
   "outputs": [
    {
     "data": {
      "text/html": [
       "<div style=\"width:100%;\"><div style=\"position:relative;width:100%;height:0;padding-bottom:60%;\"><span style=\"color:#565656\">Make this Notebook Trusted to load map: File -> Trust Notebook</span><iframe src=\"about:blank\" style=\"position:absolute;width:100%;height:100%;left:0;top:0;border:none !important;\" data-html=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 onload=\"this.contentDocument.open();this.contentDocument.write(atob(this.getAttribute('data-html')));this.contentDocument.close();\" allowfullscreen webkitallowfullscreen mozallowfullscreen></iframe></div></div>"
      ],
      "text/plain": [
       "<folium.folium.Map at 0x1e1b626c250>"
      ]
     },
     "execution_count": 32,
     "metadata": {},
     "output_type": "execute_result"
    }
   ],
   "source": [
    "# Add the Marker cluster to the site map\n",
    "# site_map = folium.Map(location=nasa_coordinate, zoom_start=5)\n",
    "site_map.add_child(marker_cluster)\n",
    "\n",
    "# for each row in spacex_df data frame\n",
    "# create a Marker object with its coordinate\n",
    "# and customize the Marker's icon property to indicate if this launch was successed or failed, e.g., icon=folium.Icon(color='white', icon_color=row['marker_color']\n",
    "\n",
    "for row in spacex_df.values:\n",
    "    # Create a blue circle at NASA Johnson Space Center's coordinate with a icon showing its name\n",
    "    marker = folium.map.Marker(\n",
    "        [row[1], row[2]],\n",
    "        # Create an icon as a text label\n",
    "        icon=folium.Icon(color='white', icon_color=row[4])\n",
    "        )\n",
    "    marker_cluster.add_child(marker)\n",
    "    site_map.add_child(circle)\n",
    "#     site_map.add_child(marker)\n",
    "site_map"
   ]
  },
  {
   "cell_type": "markdown",
   "metadata": {},
   "source": [
    "Your updated map may look like the following screenshots:\n"
   ]
  },
  {
   "cell_type": "markdown",
   "metadata": {},
   "source": [
    "<center>\n",
    "    <img src=\"https://cf-courses-data.s3.us.cloud-object-storage.appdomain.cloud/IBM-DS0321EN-SkillsNetwork/labs/module_3/images/launch_site_marker_cluster.png\" />\n",
    "</center>\n"
   ]
  },
  {
   "cell_type": "markdown",
   "metadata": {},
   "source": [
    "<center>\n",
    "    <img src=\"https://cf-courses-data.s3.us.cloud-object-storage.appdomain.cloud/IBM-DS0321EN-SkillsNetwork/labs/module_3/images/launch_site_marker_cluster_zoomed.png\" />\n",
    "</center>\n"
   ]
  },
  {
   "cell_type": "markdown",
   "metadata": {},
   "source": [
    "From the color-labeled markers in marker clusters, you should be able to easily identify which launch sites have relatively high success rates.\n"
   ]
  },
  {
   "cell_type": "markdown",
   "metadata": {},
   "source": [
    "# TASK 3: Calculate the distances between a launch site to its proximities\n"
   ]
  },
  {
   "cell_type": "markdown",
   "metadata": {},
   "source": [
    "Next, we need to explore and analyze the proximities of launch sites.\n"
   ]
  },
  {
   "cell_type": "markdown",
   "metadata": {},
   "source": [
    "Let's first add a `MousePosition` on the map to get coordinate for a mouse over a point on the map. As such, while you are exploring the map, you can easily find the coordinates of any points of interests (such as railway)\n"
   ]
  },
  {
   "cell_type": "code",
   "execution_count": 41,
   "metadata": {},
   "outputs": [
    {
     "ename": "AttributeError",
     "evalue": "module 'folium.plugins' has no attribute 'MousePosition'",
     "output_type": "error",
     "traceback": [
      "\u001b[1;31m---------------------------------------------------------------------------\u001b[0m",
      "\u001b[1;31mAttributeError\u001b[0m                            Traceback (most recent call last)",
      "\u001b[1;32m<ipython-input-41-b73b439c81fb>\u001b[0m in \u001b[0;36m<module>\u001b[1;34m\u001b[0m\n\u001b[0;32m      3\u001b[0m \u001b[1;31m# Add Mouse Position to get the coordinate (Lat, Long) for a mouse over on the map\u001b[0m\u001b[1;33m\u001b[0m\u001b[1;33m\u001b[0m\u001b[1;33m\u001b[0m\u001b[0m\n\u001b[0;32m      4\u001b[0m \u001b[0mformatter\u001b[0m \u001b[1;33m=\u001b[0m \u001b[1;34m\"function(num) {return L.Util.formatNum(num, 5);};\"\u001b[0m\u001b[1;33m\u001b[0m\u001b[1;33m\u001b[0m\u001b[0m\n\u001b[1;32m----> 5\u001b[1;33m mouse_position = folium.plugins.MousePosition(\n\u001b[0m\u001b[0;32m      6\u001b[0m     \u001b[0mposition\u001b[0m\u001b[1;33m=\u001b[0m\u001b[1;34m'topright'\u001b[0m\u001b[1;33m,\u001b[0m\u001b[1;33m\u001b[0m\u001b[1;33m\u001b[0m\u001b[0m\n\u001b[0;32m      7\u001b[0m     \u001b[0mseparator\u001b[0m\u001b[1;33m=\u001b[0m\u001b[1;34m' Long: '\u001b[0m\u001b[1;33m,\u001b[0m\u001b[1;33m\u001b[0m\u001b[1;33m\u001b[0m\u001b[0m\n",
      "\u001b[1;31mAttributeError\u001b[0m: module 'folium.plugins' has no attribute 'MousePosition'"
     ]
    }
   ],
   "source": [
    "import folium\n",
    "from folium.plugins import *\n",
    "# Add Mouse Position to get the coordinate (Lat, Long) for a mouse over on the map\n",
    "formatter = \"function(num) {return L.Util.formatNum(num, 5);};\"\n",
    "mouse_position = folium.plugins.MousePosition(\n",
    "    position='topright',\n",
    "    separator=' Long: ',\n",
    "    empty_string='NaN',\n",
    "    lng_first=False,\n",
    "    num_digits=20,\n",
    "    prefix='Lat:',\n",
    "    lat_formatter=formatter,\n",
    "    lng_formatter=formatter,\n",
    ")\n",
    "\n",
    "site_map.add_child(mouse_position)\n",
    "site_map"
   ]
  },
  {
   "cell_type": "markdown",
   "metadata": {},
   "source": [
    "Now zoom in to a launch site and explore its proximity to see if you can easily find any railway, highway, coastline, etc. Move your mouse to these points and mark down their coordinates (shown on the top-left) in order to the distance to the launch site.\n"
   ]
  },
  {
   "cell_type": "markdown",
   "metadata": {},
   "source": [
    "You can calculate the distance between two points on the map based on their `Lat` and `Long` values using the following method:\n"
   ]
  },
  {
   "cell_type": "code",
   "execution_count": 47,
   "metadata": {},
   "outputs": [],
   "source": [
    "from math import sin, cos, sqrt, atan2, radians\n",
    "\n",
    "def calculate_distance(lat1, lon1, lat2, lon2):\n",
    "    # approximate radius of earth in km\n",
    "    R = 6373.0\n",
    "\n",
    "    lat1 = radians(lat1)\n",
    "    lon1 = radians(lon1)\n",
    "    lat2 = radians(lat2)\n",
    "    lon2 = radians(lon2)\n",
    "\n",
    "    dlon = lon2 - lon1\n",
    "    dlat = lat2 - lat1\n",
    "\n",
    "    a = sin(dlat / 2)**2 + cos(lat1) * cos(lat2) * sin(dlon / 2)**2\n",
    "    c = 2 * atan2(sqrt(a), sqrt(1 - a))\n",
    "\n",
    "    distance = R * c\n",
    "    return distance"
   ]
  },
  {
   "cell_type": "markdown",
   "metadata": {},
   "source": [
    "*TODO:* Mark down a point on the closest railway using MousePosition and calculate the distance between the railway point to the launch site.\n"
   ]
  },
  {
   "cell_type": "code",
   "execution_count": null,
   "metadata": {},
   "outputs": [],
   "source": [
    "# distance_railway = calculate_distance(lat1, lon1, lat2, lon2)"
   ]
  },
  {
   "cell_type": "markdown",
   "metadata": {},
   "source": [
    "*TODO:* After obtained its coordinate, create a `folium.Marker` to show the distance\n"
   ]
  },
  {
   "cell_type": "code",
   "execution_count": null,
   "metadata": {},
   "outputs": [],
   "source": [
    "# create and add a folium.Marker on your selected closest raiwaly point on the map\n",
    "# show the distance to the launch site using the icon property "
   ]
  },
  {
   "cell_type": "markdown",
   "metadata": {},
   "source": [
    "*TODO:* Draw a `PolyLine` between a launch site to the selected\n"
   ]
  },
  {
   "cell_type": "code",
   "execution_count": null,
   "metadata": {},
   "outputs": [],
   "source": [
    "# Create a `folium.PolyLine` object using the railway point coordinate and launch site coordinate"
   ]
  },
  {
   "cell_type": "markdown",
   "metadata": {},
   "source": [
    "Your updated map with distance line should look like the following screenshot:\n"
   ]
  },
  {
   "cell_type": "markdown",
   "metadata": {},
   "source": [
    "<center>\n",
    "    <img src=\"https://cf-courses-data.s3.us.cloud-object-storage.appdomain.cloud/IBM-DS0321EN-SkillsNetwork/labs/module_3/images/launch_site_marker_distance.png\" />\n",
    "</center>\n"
   ]
  },
  {
   "cell_type": "markdown",
   "metadata": {},
   "source": [
    "*TODO:* Similarly, you can draw a line betwee a launch site to its closest city, coastline, highway, etc.\n"
   ]
  },
  {
   "cell_type": "code",
   "execution_count": null,
   "metadata": {},
   "outputs": [],
   "source": [
    "# Create a marker with distance to a closest city, coastline, highway, etc.\n",
    "# Draw a line between the marker to the launch site\n"
   ]
  },
  {
   "cell_type": "markdown",
   "metadata": {},
   "source": [
    "After you plot distance lines to the proximities, you can answer the following questions easily:\n",
    "\n",
    "*   Are launch sites in close proximity to railways?\n",
    "*   Are launch sites in close proximity to highways?\n",
    "*   Are launch sites in close proximity to coastline?\n",
    "*   Do launch sites keep certain distance away from cities?\n",
    "\n",
    "Also please try to explain your findings.\n"
   ]
  },
  {
   "cell_type": "markdown",
   "metadata": {},
   "source": [
    "# Next Steps:\n",
    "\n",
    "Now you have discovered many interesting insights related to the launch sites' location using folium, in a very interactive way. Next, you will need to build a dashboard using Ploty Dash on detailed launch records.\n"
   ]
  },
  {
   "cell_type": "markdown",
   "metadata": {},
   "source": [
    "## Authors\n"
   ]
  },
  {
   "cell_type": "markdown",
   "metadata": {},
   "source": [
    "[Yan Luo](https://www.linkedin.com/in/yan-luo-96288783/?utm_medium=Exinfluencer&utm_source=Exinfluencer&utm_content=000026UJ&utm_term=10006555&utm_id=NA-SkillsNetwork-Channel-SkillsNetworkCoursesIBMDS0321ENSkillsNetwork26802033-2021-01-01)\n"
   ]
  },
  {
   "cell_type": "markdown",
   "metadata": {},
   "source": [
    "### Other Contributors\n"
   ]
  },
  {
   "cell_type": "markdown",
   "metadata": {},
   "source": [
    "Joseph Santarcangelo\n"
   ]
  },
  {
   "cell_type": "markdown",
   "metadata": {},
   "source": [
    "## Change Log\n"
   ]
  },
  {
   "cell_type": "markdown",
   "metadata": {},
   "source": [
    "| Date (YYYY-MM-DD) | Version | Changed By | Change Description          |\n",
    "| ----------------- | ------- | ---------- | --------------------------- |\n",
    "| 2021-05-26        | 1.0     | Yan        | Created the initial version |\n"
   ]
  },
  {
   "cell_type": "markdown",
   "metadata": {},
   "source": [
    "Copyright © 2021 IBM Corporation. All rights reserved.\n"
   ]
  }
 ],
 "metadata": {
  "kernelspec": {
   "display_name": "Python 3",
   "language": "python",
   "name": "python3"
  },
  "language_info": {
   "codemirror_mode": {
    "name": "ipython",
    "version": 3
   },
   "file_extension": ".py",
   "mimetype": "text/x-python",
   "name": "python",
   "nbconvert_exporter": "python",
   "pygments_lexer": "ipython3",
   "version": "3.8.3"
  },
  "papermill": {
   "duration": 142.196942,
   "end_time": "2020-09-19T06:29:13.341578",
   "environment_variables": {},
   "exception": null,
   "input_path": "__notebook__.ipynb",
   "output_path": "__notebook__.ipynb",
   "parameters": {},
   "start_time": "2020-09-19T06:26:51.144636",
   "version": "2.1.0"
  }
 },
 "nbformat": 4,
 "nbformat_minor": 4
}
